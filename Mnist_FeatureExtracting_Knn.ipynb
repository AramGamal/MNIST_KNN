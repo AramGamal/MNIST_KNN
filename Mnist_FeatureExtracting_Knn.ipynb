{
 "cells": [
  {
   "cell_type": "markdown",
   "metadata": {},
   "source": [
    "<h3>Import Needed Libraries</h3>"
   ]
  },
  {
   "cell_type": "code",
   "execution_count": 1,
   "metadata": {},
   "outputs": [],
   "source": [
    "import tensorflow as tf\n",
    "import pandas as pd\n",
    "import numpy as np\n",
    "from matplotlib import pyplot as plt\n",
    "from sklearn.neighbors import KNeighborsClassifier\n",
    "from sklearn.metrics import accuracy_score\n",
    "from sklearn.utils import shuffle"
   ]
  },
  {
   "cell_type": "markdown",
   "metadata": {},
   "source": [
    "<h3>Load MNIST Dataset, Split it into Train & Test</h3>"
   ]
  },
  {
   "cell_type": "code",
   "execution_count": 2,
   "metadata": {},
   "outputs": [],
   "source": [
    "mnist = tf.keras.datasets.mnist\n",
    "(train_images, train_labels), (test_images, test_labels) = mnist.load_data()"
   ]
  },
  {
   "cell_type": "code",
   "execution_count": 3,
   "metadata": {},
   "outputs": [
    {
     "name": "stdout",
     "output_type": "stream",
     "text": [
      "Training Data Shape is (60000, 28, 28) ,  Its Type Is <class 'numpy.ndarray'> ,\n",
      "Test Data Shape is (10000, 28, 28) , Its Type is <class 'numpy.ndarray'> \n"
     ]
    }
   ],
   "source": [
    "print(\n",
    "    \"Training Data Shape is {} ,  Its Type Is {} ,\\nTest Data Shape is {} , Its Type is {} \".format(\n",
    "        train_images.shape, type(train_images) , test_images.shape , type(test_images)\n",
    "    )\n",
    ")"
   ]
  },
  {
   "cell_type": "code",
   "execution_count": 6,
   "metadata": {},
   "outputs": [
    {
     "name": "stdout",
     "output_type": "stream",
     "text": [
      "Training Data Shape is (60000, 28, 28) ,  Its Type Is <class 'numpy.ndarray'> ,\n",
      "Test Data Shape is (10000, 28, 28) , Its Type is <class 'numpy.ndarray'> \n"
     ]
    }
   ],
   "source": [
    "\n",
    "print(\n",
    "    \"Training Data Shape is {} ,  Its Type Is {} ,\\nTest Data Shape is {} , Its Type is {} \".format(\n",
    "        train_images.shape, type(train_images) , test_images.shape , type(test_images)\n",
    "    )\n",
    ")"
   ]
  },
  {
   "cell_type": "markdown",
   "metadata": {},
   "source": [
    "<h3>Display Images</h3>"
   ]
  },
  {
   "cell_type": "code",
   "execution_count": 7,
   "metadata": {},
   "outputs": [],
   "source": [
    "def showImage(imgIndex):\n",
    "    image = imgIndex\n",
    "    image = np.array(image, dtype='float')\n",
    "    pixels = image.reshape((28, 28))\n",
    "    plt.imshow(pixels, cmap='gray')\n",
    "    plt.show()"
   ]
  },
  {
   "cell_type": "code",
   "execution_count": 8,
   "metadata": {},
   "outputs": [
    {
     "data": {
      "image/png": "[encoded data removed]",
      "text/plain": [
       "<Figure size 432x288 with 1 Axes>"
      ]
     },
     "metadata": {
      "needs_background": "light"
     },
     "output_type": "display_data"
    }
   ],
   "source": [
    "showImage(train_images[10])"
   ]
  },
  {
   "cell_type": "code",
   "execution_count": 9,
   "metadata": {},
   "outputs": [
    {
     "data": {
      "text/plain": [
       "3"
      ]
     },
     "execution_count": 9,
     "metadata": {},
     "output_type": "execute_result"
    }
   ],
   "source": [
    "train_labels[10]"
   ]
  },
  {
   "cell_type": "code",
   "execution_count": 10,
   "metadata": {},
   "outputs": [
    {
     "data": {
      "image/png": "[encoded data removed]",
      "text/plain": [
       "<Figure size 432x288 with 1 Axes>"
      ]
     },
     "metadata": {
      "needs_background": "light"
     },
     "output_type": "display_data"
    }
   ],
   "source": [
    "showImage(train_images[162])"
   ]
  },
  {
   "cell_type": "code",
   "execution_count": 11,
   "metadata": {},
   "outputs": [
    {
     "data": {
      "text/plain": [
       "9"
      ]
     },
     "execution_count": 11,
     "metadata": {},
     "output_type": "execute_result"
    }
   ],
   "source": [
    "train_labels[162]"
   ]
  },
  {
   "cell_type": "markdown",
   "metadata": {},
   "source": [
    "<h3>Reshape Image To Smaller Grids </h3>"
   ]
  },
  {
   "cell_type": "code",
   "execution_count": 15,
   "metadata": {},
   "outputs": [],
   "source": [
    "# This funstion will be used to reshape the images into \n",
    "# grid with dimensions row * col (7*7, 14*14, to be compatible with the original size 28*28 )\n",
    "def reshapeImage(image , row , col ):\n",
    "    x , y = image.shape\n",
    " # The assert statement is used to continue the execute if the given condition evaluates to True.\n",
    " # If the assert condition evaluates to False,\n",
    " # then it raises the AssertionError exception with the specified error message.\n",
    "    assert x % row == 0, \"{} rows is not evenly divisble by {}\".format(x, row)\n",
    "    assert y % col == 0, \"{} cols is not evenly divisble by {}\".format(y, col)\n",
    "\n",
    "    return (image.reshape ( x //row, row, -1, col)\n",
    "               .swapaxes(1,2)\n",
    "               .reshape(-1, row, col))"
   ]
  },
  {
   "cell_type": "code",
   "execution_count": 16,
   "metadata": {},
   "outputs": [
    {
     "name": "stdout",
     "output_type": "stream",
     "text": [
      "(16, 7, 7)\n"
     ]
    },
    {
     "data": {
      "text/plain": [
       "array([[[  0,   0,   0,   0,   0,   0,   0],\n",
       "        [  0,   0,   0,   0,   0,   0,   0],\n",
       "        [  0,   0,   0,   0,   0,   0,   0],\n",
       "        [  0,   0,   0,   0,   0,   0,   0],\n",
       "        [  0,   0,   0,   0,   0,   0,   0],\n",
       "        [  0,   0,   0,   0,   0,   0,   0],\n",
       "        [  0,   0,   0,   0,   0,   0,   0]],\n",
       "\n",
       "       [[  0,   0,   0,   0,   0,   0,   0],\n",
       "        [  0,   0,   0,   0,   0,   0,   0],\n",
       "        [  0,   0,   0,   0,   0,   0,   0],\n",
       "        [  0,   0,   0,   0,   0,   0,   0],\n",
       "        [  0,   0,   0,   0,   0,   0,   0],\n",
       "        [  0,   0,   0,   0,   0,   0,   0],\n",
       "        [  0,   0,   0,   0,   0,   0,   0]],\n",
       "\n",
       "       [[  0,   0,   0,   0,   0,   0,   0],\n",
       "        [  0,   0,   0,   0,   0,   0,   0],\n",
       "        [  0,   0,   0,   0,   0,   0,   0],\n",
       "        [  0,   0,   0,   0,   0,   0,   0],\n",
       "        [  0,   0,  38, 254, 109,   0,   0],\n",
       "        [  0,   0,  87, 252,  82,   0,   0],\n",
       "        [  0,   0, 135, 241,   0,   0,   0]],\n",
       "\n",
       "       [[  0,   0,   0,   0,   0,   0,   0],\n",
       "        [  0,   0,   0,   0,   0,   0,   0],\n",
       "        [  0,   0,   0,   0,   0,   0,   0],\n",
       "        [  0,   0,   0,   0,   0,   0,   0],\n",
       "        [  0,   0,   0,   0,   0,   0,   0],\n",
       "        [  0,   0,   0,   0,   0,   0,   0],\n",
       "        [  0,   0,   0,   0,   0,   0,   0]],\n",
       "\n",
       "       [[  0,   0,   0,   0,   0,   0,   0],\n",
       "        [  0,   0,   0,   0,   0,   0,   0],\n",
       "        [  0,   0,   0,   0,   0,   0,   0],\n",
       "        [  0,   0,   0,   0,   0,   0,   0],\n",
       "        [  0,   0,   0,   0,   0,   0,   0],\n",
       "        [  0,   0,   0,   0,   0,   0,   0],\n",
       "        [  0,   0,   0,   0,   0,   0,   0]],\n",
       "\n",
       "       [[  0,   0,   0,   0,   0,   0,   0],\n",
       "        [  0,   0,   0,   0,   0,   0,   0],\n",
       "        [  0,   0,   0,   0,   0,   0,   0],\n",
       "        [  0,   0,   0,   0,   0,   0,   0],\n",
       "        [  0,   0,   0,   0,   0,   0,   0],\n",
       "        [  0,   0,   0,   0,   0,   0,   0],\n",
       "        [  0,   0,   0,   0,   0,   0,  57]],\n",
       "\n",
       "       [[  0,  45, 244, 150,   0,   0,   0],\n",
       "        [  0,  84, 254,  63,   0,   0,   0],\n",
       "        [  0, 202, 223,  11,   0,   0,   0],\n",
       "        [ 32, 254, 216,   0,   0,   0,   0],\n",
       "        [ 95, 254, 195,   0,   0,   0,   0],\n",
       "        [140, 254,  77,   0,   0,   0,   0],\n",
       "        [237, 205,   8,   0,   0,   0,   0]],\n",
       "\n",
       "       [[  0,   0,   0,   0,   0,   0,   0],\n",
       "        [  0,   0,   0,   0,   0,   0,   0],\n",
       "        [  0,   0,   0,   0,   0,   0,   0],\n",
       "        [  0,   0,   0,   0,   0,   0,   0],\n",
       "        [  0,   0,   0,   0,   0,   0,   0],\n",
       "        [  0,   0,   0,   0,   0,   0,   0],\n",
       "        [  0,   0,   0,   0,   0,   0,   0]],\n",
       "\n",
       "       [[  0,   0,   0,   0,   0,   0,   0],\n",
       "        [  0,   0,   0,   0,   0,   0,   0],\n",
       "        [  0,   0,   0,   0,   0,   0,   0],\n",
       "        [  0,   0,   0,   0,   0,   0,   0],\n",
       "        [  0,   0,   0,   0,   0,   0,   0],\n",
       "        [  0,   0,   0,   0,   0,   0,   0],\n",
       "        [  0,   0,   0,   0,   0,   0,   0]],\n",
       "\n",
       "       [[  0,   0,   0,   0,   0,   0, 124],\n",
       "        [  0,   0,   0,   0,   0,   0, 171],\n",
       "        [  0,   0,   0,   0,   0,  24, 232],\n",
       "        [  0,   0,   0,   0,   0, 120, 254],\n",
       "        [  0,   0,   0,   0,   0, 151, 254],\n",
       "        [  0,   0,   0,   0,   0, 228, 254],\n",
       "        [  0,   0,   0,   0,  61, 251, 254]],\n",
       "\n",
       "       [[255, 165,   0,   0,   0,   0,   0],\n",
       "        [254,  81,   0,   0,   0,   0,   0],\n",
       "        [215,   0,   0,   0,   0,   0,   0],\n",
       "        [159,   0,   0,   0,   0,   0,   0],\n",
       "        [142,   0,   0,   0,   0,   0,   0],\n",
       "        [ 66,   0,   0,   0,   0,   0,   0],\n",
       "        [ 66,   0,   0,   0,   0,   0,   0]],\n",
       "\n",
       "       [[  0,   0,   0,   0,   0,   0,   0],\n",
       "        [  0,   0,   0,   0,   0,   0,   0],\n",
       "        [  0,   0,   0,   0,   0,   0,   0],\n",
       "        [  0,   0,   0,   0,   0,   0,   0],\n",
       "        [  0,   0,   0,   0,   0,   0,   0],\n",
       "        [  0,   0,   0,   0,   0,   0,   0],\n",
       "        [  0,   0,   0,   0,   0,   0,   0]],\n",
       "\n",
       "       [[  0,   0,   0,   0,   0,   0,   0],\n",
       "        [  0,   0,   0,   0,   0,   0,   0],\n",
       "        [  0,   0,   0,   0,   0,   0,   0],\n",
       "        [  0,   0,   0,   0,   0,   0,   0],\n",
       "        [  0,   0,   0,   0,   0,   0,   0],\n",
       "        [  0,   0,   0,   0,   0,   0,   0],\n",
       "        [  0,   0,   0,   0,   0,   0,   0]],\n",
       "\n",
       "       [[  0,   0,   0,   0, 141, 254, 205],\n",
       "        [  0,   0,   0,  10, 215, 254, 121],\n",
       "        [  0,   0,   0,   5, 198, 176,  10],\n",
       "        [  0,   0,   0,   0,   0,   0,   0],\n",
       "        [  0,   0,   0,   0,   0,   0,   0],\n",
       "        [  0,   0,   0,   0,   0,   0,   0],\n",
       "        [  0,   0,   0,   0,   0,   0,   0]],\n",
       "\n",
       "       [[  3,   0,   0,   0,   0,   0,   0],\n",
       "        [  0,   0,   0,   0,   0,   0,   0],\n",
       "        [  0,   0,   0,   0,   0,   0,   0],\n",
       "        [  0,   0,   0,   0,   0,   0,   0],\n",
       "        [  0,   0,   0,   0,   0,   0,   0],\n",
       "        [  0,   0,   0,   0,   0,   0,   0],\n",
       "        [  0,   0,   0,   0,   0,   0,   0]],\n",
       "\n",
       "       [[  0,   0,   0,   0,   0,   0,   0],\n",
       "        [  0,   0,   0,   0,   0,   0,   0],\n",
       "        [  0,   0,   0,   0,   0,   0,   0],\n",
       "        [  0,   0,   0,   0,   0,   0,   0],\n",
       "        [  0,   0,   0,   0,   0,   0,   0],\n",
       "        [  0,   0,   0,   0,   0,   0,   0],\n",
       "        [  0,   0,   0,   0,   0,   0,   0]]], dtype=uint8)"
      ]
     },
     "execution_count": 16,
     "metadata": {},
     "output_type": "execute_result"
    }
   ],
   "source": [
    "print(reshapeImage(test_images[2] , 7 , 7 ).shape)\n",
    "reshapeImage(test_images[2] , 7, 7 )\n"
   ]
  },
  {
   "cell_type": "markdown",
   "metadata": {},
   "source": [
    "<h3>Feature Extraction</h3><br>"
   ]
  },
  {
   "cell_type": "markdown",
   "metadata": {},
   "source": [
    "In this section, I will use the images, after being reshaped with the desired grid size, and for each block I will extract the centroid of it.<br><br>\n",
    "\n"
   ]
  },
  {
   "cell_type": "code",
   "execution_count": 17,
   "metadata": {},
   "outputs": [],
   "source": [
    "def calculateCentroid(image):\n",
    "    \n",
    "    featureVector = []\n",
    " \n",
    "    for grid in reshapeImage(image , 7 , 7 ) :\n",
    "        \n",
    "        Xc = 0 \n",
    "        Yc = 0 \n",
    "        sum = 0\n",
    "    \n",
    "        for index, x in np.ndenumerate(grid):\n",
    "          sum+= x \n",
    "          Xc += x * index[0]\n",
    "          Yc += x * index[1]\n",
    "        \n",
    "        if sum != 0 :\n",
    "            featureVector.append( Xc/ sum )\n",
    "            featureVector.append(Yc/ sum )\n",
    "        else :\n",
    "             featureVector.append(0)\n",
    "             featureVector.append(0)\n",
    "        \n",
    "    \n",
    "    return np.array(featureVector)"
   ]
  },
  {
   "cell_type": "code",
   "execution_count": 18,
   "metadata": {},
   "outputs": [],
   "source": [
    "# Feature Extraction from training dataset\n",
    "train_features = [calculateCentroid(img)  for img in train_images  ]\n"
   ]
  },
  {
   "cell_type": "code",
   "execution_count": 19,
   "metadata": {},
   "outputs": [],
   "source": [
    "train_features = np.array(train_features)"
   ]
  },
  {
   "cell_type": "code",
   "execution_count": 20,
   "metadata": {},
   "outputs": [
    {
     "data": {
      "text/plain": [
       "(60000, 32)"
      ]
     },
     "execution_count": 20,
     "metadata": {},
     "output_type": "execute_result"
    }
   ],
   "source": [
    "train_features.shape"
   ]
  },
  {
   "cell_type": "code",
   "execution_count": 21,
   "metadata": {},
   "outputs": [],
   "source": [
    "# Feature Extraction from test dataset\n",
    "test_features = [calculateCentroid(img)  for img in test_images  ]"
   ]
  },
  {
   "cell_type": "code",
   "execution_count": 22,
   "metadata": {},
   "outputs": [],
   "source": [
    "test_features = np.array(test_features)"
   ]
  },
  {
   "cell_type": "code",
   "execution_count": 23,
   "metadata": {},
   "outputs": [
    {
     "data": {
      "text/plain": [
       "(10000, 32)"
      ]
     },
     "execution_count": 23,
     "metadata": {},
     "output_type": "execute_result"
    }
   ],
   "source": [
    "test_features.shape"
   ]
  },
  {
   "cell_type": "markdown",
   "metadata": {},
   "source": [
    "<h3>Classification Using KNN Classifier</h3>"
   ]
  },
  {
   "cell_type": "code",
   "execution_count": 24,
   "metadata": {},
   "outputs": [
    {
     "name": "stdout",
     "output_type": "stream",
     "text": [
      "Accuracy Score = 91.16 %\n"
     ]
    }
   ],
   "source": [
    "knn = KNeighborsClassifier(n_neighbors=7)\n",
    "knn.fit(train_features, train_labels)\n",
    "# Calculate the accuracy of the model\n",
    "print(\"Accuracy Score =\", knn.score(test_features, test_labels) * 100, \"%\")\n"
   ]
  },
  {
   "cell_type": "code",
   "execution_count": 25,
   "metadata": {},
   "outputs": [
    {
     "data": {
      "image/png": "[encoded data removed]",
      "text/plain": [
       "<Figure size 432x288 with 1 Axes>"
      ]
     },
     "metadata": {
      "needs_background": "light"
     },
     "output_type": "display_data"
    }
   ],
   "source": [
    "#iterating to try different values of k\n",
    "\n",
    "\n",
    "neighbors = np.arange(1, 10)\n",
    "train_accuracy = np.empty(len(neighbors))\n",
    "test_accuracy = np.empty(len(neighbors))\n",
    "# Loop over K values\n",
    "for i, k in enumerate(neighbors):\n",
    "    knn = KNeighborsClassifier(n_neighbors=k)\n",
    "    knn.fit(train_features, train_labels)\n",
    "     \n",
    "    # Compute training and test data accuracy\n",
    "    train_accuracy[i] = knn.score(train_features, train_labels)\n",
    "    test_accuracy[i] = knn.score(test_features, test_labels)\n",
    " \n",
    "# Generate plot\n",
    "plt.plot(neighbors, test_accuracy, label = 'Testing dataset Accuracy')\n",
    "plt.plot(neighbors, train_accuracy, label = 'Training dataset Accuracy')\n",
    " \n",
    "plt.legend()\n",
    "plt.xlabel('n_neighbors')\n",
    "plt.ylabel('Accuracy')\n",
    "plt.grid()\n",
    "plt.show()\n"
   ]
  },
  {
   "cell_type": "code",
   "execution_count": 26,
   "metadata": {},
   "outputs": [
    {
     "name": "stdout",
     "output_type": "stream",
     "text": [
      "Accuracy Score = 91.74 %\n"
     ]
    }
   ],
   "source": [
    "knn = KNeighborsClassifier(n_neighbors=1)\n",
    "knn.fit(train_features, train_labels)\n",
    "# Calculate the accuracy of the model\n",
    "print(\"Accuracy Score =\", knn.score(test_features, test_labels) * 100, \"%\")\n"
   ]
  },
  {
   "cell_type": "markdown",
   "metadata": {},
   "source": [
    "<h3>Conclusion<h3>\n",
    "<b> \n",
    "\n",
    "   \n",
    "    The highest accuracy is 91.74% with k = 1.\n"
   ]
  },
  {
   "cell_type": "markdown",
   "metadata": {},
   "source": []
  }
 ],
 "metadata": {
  "kernelspec": {
   "display_name": "Python 3.10.4 64-bit",
   "language": "python",
   "name": "python3"
  },
  "language_info": {
   "codemirror_mode": {
    "name": "ipython",
    "version": 3
   },
   "file_extension": ".py",
   "mimetype": "text/x-python",
   "name": "python",
   "nbconvert_exporter": "python",
   "pygments_lexer": "ipython3",
   "version": "3.10.4"
  },
  "orig_nbformat": 4,
  "vscode": {
   "interpreter": {
    "hash": "c6f49192d0bce917e772c5946e834838068b8249c42ccc351ef31a8d9d9289a6"
   }
  }
 },
 "nbformat": 4,
 "nbformat_minor": 2
}
